{
 "cells": [
  {
   "cell_type": "code",
   "execution_count": 10,
   "id": "2b6012fe-01a8-4b1e-921f-63e4c4970f12",
   "metadata": {},
   "outputs": [
    {
     "name": "stdout",
     "output_type": "stream",
     "text": [
      "[[ 1  2  3  4  5]\n",
      " [ 6  7  8  9 10]\n",
      " [11 12 13 14 15]\n",
      " [16 17 18 19 20]\n",
      " [21 22 23 24 25]\n",
      " [26 27 28 29 30]]\n"
     ]
    }
   ],
   "source": [
    "import numpy as np\n",
    "matrix = np.arange(1, 31).reshape(6, 5)\n",
    "print(matrix)"
   ]
  },
  {
   "cell_type": "code",
   "execution_count": 12,
   "id": "9fb63d31-361d-4b3e-9470-5d785a0061c8",
   "metadata": {},
   "outputs": [
    {
     "name": "stdout",
     "output_type": "stream",
     "text": [
      "[[11 12]\n",
      " [16 17]]\n"
     ]
    }
   ],
   "source": [
    "matrix_2 = matrix[2:4, 0:2]\n",
    "print(matrix_2)"
   ]
  },
  {
   "cell_type": "code",
   "execution_count": 24,
   "id": "7561be24-b824-486f-871f-d286aad48e12",
   "metadata": {},
   "outputs": [
    {
     "name": "stdout",
     "output_type": "stream",
     "text": [
      "[[ 0.  2.  0.  0.  0.]\n",
      " [ 0.  0.  8.  0.  0.]\n",
      " [ 0.  0.  0. 14.  0.]\n",
      " [ 0.  0.  0.  0. 20.]\n",
      " [ 0.  0.  0.  0.  0.]\n",
      " [ 0.  0.  0.  0.  0.]]\n"
     ]
    }
   ],
   "source": [
    "masked_matrix = np.zeros((6, 5))\n",
    "masked_matrix[0, 1] = 2\n",
    "masked_matrix[1, 2] = 8\n",
    "masked_matrix[2, 3] = 14\n",
    "masked_matrix[3, 4] = 20\n",
    "print(masked_matrix)"
   ]
  },
  {
   "cell_type": "code",
   "execution_count": 26,
   "id": "bfcf2cfd-8212-4a30-8384-d5af844b07aa",
   "metadata": {},
   "outputs": [
    {
     "name": "stdout",
     "output_type": "stream",
     "text": [
      "[[ 0.  0.  0.  4.  5.]\n",
      " [ 0.  0.  0.  0.  0.]\n",
      " [ 0.  0.  0.  0.  0.]\n",
      " [ 0.  0.  0.  0.  0.]\n",
      " [ 0.  0.  0. 24. 25.]\n",
      " [ 0.  0.  0. 29. 30.]]\n"
     ]
    }
   ],
   "source": [
    "masked_matrix_3 = np.zeros((6, 5))\n",
    "masked_matrix_3[0, 3:] = [4, 5]  \n",
    "masked_matrix_3[4, 3:] = [24, 25] \n",
    "masked_matrix_3[5, 3:] = [29, 30]\n",
    "print(masked_matrix_3)"
   ]
  },
  {
   "cell_type": "code",
   "execution_count": null,
   "id": "7b93cc9e-8814-4196-a432-cbf4b75a8ac1",
   "metadata": {},
   "outputs": [],
   "source": []
  }
 ],
 "metadata": {
  "kernelspec": {
   "display_name": "Python 3 (ipykernel)",
   "language": "python",
   "name": "python3"
  },
  "language_info": {
   "codemirror_mode": {
    "name": "ipython",
    "version": 3
   },
   "file_extension": ".py",
   "mimetype": "text/x-python",
   "name": "python",
   "nbconvert_exporter": "python",
   "pygments_lexer": "ipython3",
   "version": "3.12.4"
  }
 },
 "nbformat": 4,
 "nbformat_minor": 5
}
